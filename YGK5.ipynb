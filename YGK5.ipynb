{
 "cells": [
  {
   "cell_type": "code",
   "execution_count": 1,
   "id": "d6a5e1f6-b75e-4116-959e-055867998b1a",
   "metadata": {},
   "outputs": [],
   "source": [
    "ogrenci_notlari = {\n",
    "    \"Ahmet\": {\"Matematik\": 85, \"Fizik\": 78, \"Kimya\": 92},\n",
    "    \"Ayşe\": {\"Matematik\": 90, \"Fizik\": 88, \"Kimya\": 85},\n",
    "    \"Mehmet\": {\"Matematik\": 75, \"Fizik\": 82, \"Kimya\": 80}\n",
    "}"
   ]
  },
  {
   "cell_type": "markdown",
   "id": "75b61d67-a872-44dc-848f-fb99e2f171cf",
   "metadata": {},
   "source": [
    "# Kullanıcıdan bilgi isteme"
   ]
  },
  {
   "cell_type": "code",
   "execution_count": 4,
   "id": "77e9f8cf-bbb5-4077-a62b-a268865799db",
   "metadata": {},
   "outputs": [],
   "source": [
    "def bilgi_sorgula():\n",
    "    isim = input(\"Öğrenci ismi girin: \")\n",
    "    ders = input(\"Ders ismi girin (Matematik, Fizik, Kimya): \")\n",
    "    return isim, ders"
   ]
  },
  {
   "cell_type": "markdown",
   "id": "8d81b0aa-7795-4440-9f7d-bf738eae192c",
   "metadata": {},
   "source": [
    "# Notu sorgula"
   ]
  },
  {
   "cell_type": "code",
   "execution_count": 7,
   "id": "97cf6026-0aa9-421f-b7fa-b1ac3375a448",
   "metadata": {},
   "outputs": [],
   "source": [
    "def not_sorgula(isim, ders):\n",
    "    if isim in ogrenci_notlari and ders in ogrenci_notlari[isim]:\n",
    "        return ogrenci_notlari[isim][ders]\n",
    "    else:\n",
    "        return \"Bilgi bulunamadı.\""
   ]
  },
  {
   "cell_type": "markdown",
   "id": "cf675711-6088-4070-8302-10c617f68a08",
   "metadata": {},
   "source": [
    "# Not Güncelleme"
   ]
  },
  {
   "cell_type": "code",
   "execution_count": 10,
   "id": "d19bb4a2-582f-4c76-8420-1200ea68b015",
   "metadata": {},
   "outputs": [],
   "source": [
    "def not_guncelle(isim, ders, yeni_not):\n",
    "    if isim in ogrenci_notlari:\n",
    "        ogrenci_notlari[isim][ders] = yeni_not\n",
    "        return \"Not güncellendi.\"\n",
    "    else:\n",
    "        return \"Öğrenci bulunamadı.\""
   ]
  },
  {
   "cell_type": "markdown",
   "id": "ae486da6-aaa5-4318-ad0c-2bf0cf4c25f3",
   "metadata": {},
   "source": [
    "# Yeni öğrenci ekleme"
   ]
  },
  {
   "cell_type": "code",
   "execution_count": 13,
   "id": "4b310b25-c708-42d8-b3bb-5a4cd32d3705",
   "metadata": {},
   "outputs": [],
   "source": [
    "def ogrenci_ekle(isim, notlar):\n",
    "    ogrenci_notlari[isim] = notlar\n",
    "    return \"Yeni öğrenci eklendi.\""
   ]
  },
  {
   "cell_type": "markdown",
   "id": "d5e7913f-bc32-4e4f-9291-7d746c027731",
   "metadata": {},
   "source": [
    "# Ana Uygulama Döngüsü"
   ]
  },
  {
   "cell_type": "code",
   "execution_count": null,
   "id": "491bd898-a04e-45bf-a07d-f5659872a124",
   "metadata": {},
   "outputs": [
    {
     "name": "stdout",
     "output_type": "stream",
     "text": [
      "\n",
      "1. Not Sorgula\n",
      "2. Not Güncelle\n",
      "3. Yeni Öğrenci Ekle\n",
      "4. Çıkış\n"
     ]
    },
    {
     "name": "stdin",
     "output_type": "stream",
     "text": [
      "Bir işlem seçin (1-4):  1\n",
      "Öğrenci ismi girin:  Ahmet\n",
      "Ders ismi girin (Matematik, Fizik, Kimya):  Matematik\n"
     ]
    },
    {
     "name": "stdout",
     "output_type": "stream",
     "text": [
      "Ahmet öğrencisinin Matematik dersi notu: 85\n",
      "\n",
      "1. Not Sorgula\n",
      "2. Not Güncelle\n",
      "3. Yeni Öğrenci Ekle\n",
      "4. Çıkış\n"
     ]
    },
    {
     "name": "stdin",
     "output_type": "stream",
     "text": [
      "Bir işlem seçin (1-4):  2\n",
      "Öğrenci ismi girin:  Mehmet\n",
      "Ders ismi girin (Matematik, Fizik, Kimya):  Kimya\n"
     ]
    }
   ],
   "source": [
    "while True:\n",
    "    print(\"\\n1. Not Sorgula\\n2. Not Güncelle\\n3. Yeni Öğrenci Ekle\\n4. Çıkış\")\n",
    "    secim = input(\"Bir işlem seçin (1-4): \")\n",
    "\n",
    "    if secim == \"1\":\n",
    "        isim, ders = bilgi_sorgula()\n",
    "        sonuc = not_sorgula(isim, ders)\n",
    "        print(f\"{isim} öğrencisinin {ders} dersi notu: {sonuc}\")\n",
    "\n",
    "    elif secim == \"2\":\n",
    "        isim, ders = bilgi_sorgula()\n",
    "        yeni_not = int(input(f\"{isim} öğrencisinin {ders} dersi için yeni notu girin: \"))\n",
    "        sonuc = not_guncelle(isim, ders, yeni_not)\n",
    "        print(sonuc)\n",
    "\n",
    "    elif secim == \"3\":\n",
    "        isim = input(\"Yeni öğrenci ismi girin: \")\n",
    "        matematik_notu = int(input(f\"{isim} öğrencisinin Matematik notunu girin: \"))\n",
    "        fizik_notu = int(input(f\"{isim} öğrencisinin Fizik notunu girin: \"))\n",
    "        kimya_notu = int(input(f\"{isim} öğrencisinin Kimya notunu girin: \"))\n",
    "        notlar = {\"Matematik\": matematik_notu, \"Fizik\": fizik_notu, \"Kimya\": kimya_notu}\n",
    "        sonuc = ogrenci_ekle(isim, notlar)\n",
    "        print(sonuc)\n",
    "\n",
    "    elif secim == \"4\":\n",
    "        print(\"Çıkış yapılıyor.\")\n",
    "        break\n",
    "\n",
    "    else:\n",
    "        print(\"Geçersiz seçim, tekrar deneyin.\")"
   ]
  },
  {
   "cell_type": "code",
   "execution_count": null,
   "id": "d4c180ab-2624-4e2f-82fb-8e4a053a1888",
   "metadata": {},
   "outputs": [],
   "source": []
  }
 ],
 "metadata": {
  "kernelspec": {
   "display_name": "Python 3 (ipykernel)",
   "language": "python",
   "name": "python3"
  },
  "language_info": {
   "codemirror_mode": {
    "name": "ipython",
    "version": 3
   },
   "file_extension": ".py",
   "mimetype": "text/x-python",
   "name": "python",
   "nbconvert_exporter": "python",
   "pygments_lexer": "ipython3",
   "version": "3.12.4"
  }
 },
 "nbformat": 4,
 "nbformat_minor": 5
}
